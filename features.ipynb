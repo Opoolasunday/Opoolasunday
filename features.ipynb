{
 "cells": [
  {
   "cell_type": "code",
   "execution_count": 16,
   "id": "09d488d9",
   "metadata": {},
   "outputs": [
    {
     "name": "stdout",
     "output_type": "stream",
     "text": [
      "(2148, 1768)\n",
      "coarseness: 9.768140\n",
      "contrast: 40.879402\n",
      "roughness: 50.647542\n"
     ]
    }
   ],
   "source": [
    "import cv2\n",
    "import numpy as np\n",
    "\n",
    "def coarseness(image, kmax):\n",
    "    image = np.array(image)\n",
    "    w = image.shape[0]\n",
    "    h = image.shape[1]\n",
    "    kmax = kmax if (np.power(2,kmax) < w) else int(np.log(w) / np.log(2))\n",
    "    kmax = kmax if (np.power(2,kmax) < h) else int(np.log(h) / np.log(2))\n",
    "    average_gray = np.zeros([kmax,w,h])\n",
    "    horizon = np.zeros([kmax,w,h])\n",
    "    vertical = np.zeros([kmax,w,h])\n",
    "    Sbest = np.zeros([w,h])\n",
    "\n",
    "    for k in range(kmax):\n",
    "        window = np.power(2,k)\n",
    "        for wi in range(w)[window:(w-window)]:\n",
    "            for hi in range(h)[window:(h-window)]:\n",
    "                average_gray[k][wi][hi] = np.sum(image[wi-window:wi+window, hi-window:hi+window])\n",
    "        for wi in range(w)[window:(w-window-1)]:\n",
    "            for hi in range(h)[window:(h-window-1)]:\n",
    "                horizon[k][wi][hi] = average_gray[k][wi+window][hi] - average_gray[k][wi-window][hi]\n",
    "                vertical[k][wi][hi] = average_gray[k][wi][hi+window] - average_gray[k][wi][hi-window]\n",
    "        horizon[k] = horizon[k] * (1.0 / np.power(2, 2*(k+1)))\n",
    "        vertical[k] = horizon[k] * (1.0 / np.power(2, 2*(k+1)))\n",
    "\n",
    "        \n",
    "    for wi in range(w):\n",
    "        for hi in range(h):\n",
    "            h_max = np.max(horizon[:,wi,hi])\n",
    "            h_max_index = np.argmax(horizon[:,wi,hi])\n",
    "            v_max = np.max(vertical[:,wi,hi])\n",
    "            v_max_index = np.argmax(vertical[:,wi,hi])\n",
    "            index = h_max_index if (h_max > v_max) else v_max_index\n",
    "            Sbest[wi][hi] = np.power(2,index)\n",
    "\n",
    "    fcrs = np.mean(Sbest)\n",
    "    return fcrs\n",
    "def contrast(image):\n",
    "    image = np.array(image)\n",
    "    image = np.reshape(image, (1, image.shape[0]*image.shape[1]))\n",
    "    m4 = np.mean(np.power(image - np.mean(image),4))\n",
    "    v = np.var(image)\n",
    "    std = np.power(v, 0.5)\n",
    "    alfa4 = m4 / np.power(v,2)\n",
    "    fcon = std / np.power(alfa4, 0.25)\n",
    "    return fcon\n",
    "def roughness(fcrs, fcon):\n",
    "    return fcrs + fcon\n",
    "\n",
    "if __name__ == '__main__':\n",
    "    img = cv2.imread('dataset/OUT_2.jpg',cv2.IMREAD_GRAYSCALE)\n",
    "    print(img.shape)\n",
    "    fcrs = coarseness(img, 5)\n",
    "    print(\"coarseness: %f\" % fcrs);\n",
    "    fcon = contrast(img)\n",
    "    print(\"contrast: %f\" % fcon)\n",
    "    frgh = roughness(fcrs, fcon)\n",
    "    print(\"roughness: %f\" % frgh)"
   ]
  },
  {
   "cell_type": "code",
   "execution_count": null,
   "id": "383cdd04",
   "metadata": {},
   "outputs": [],
   "source": [
    "\n"
   ]
  },
  {
   "cell_type": "code",
   "execution_count": null,
   "id": "673ac832",
   "metadata": {},
   "outputs": [],
   "source": []
  },
  {
   "cell_type": "code",
   "execution_count": null,
   "id": "9d69d4b5",
   "metadata": {},
   "outputs": [],
   "source": []
  },
  {
   "cell_type": "code",
   "execution_count": null,
   "id": "91c4aa89",
   "metadata": {},
   "outputs": [],
   "source": []
  }
 ],
 "metadata": {
  "kernelspec": {
   "display_name": "Python 3 (ipykernel)",
   "language": "python",
   "name": "python3"
  },
  "language_info": {
   "codemirror_mode": {
    "name": "ipython",
    "version": 3
   },
   "file_extension": ".py",
   "mimetype": "text/x-python",
   "name": "python",
   "nbconvert_exporter": "python",
   "pygments_lexer": "ipython3",
   "version": "3.9.7"
  }
 },
 "nbformat": 4,
 "nbformat_minor": 5
}
